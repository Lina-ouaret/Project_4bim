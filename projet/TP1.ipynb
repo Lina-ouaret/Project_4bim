{
 "cells": [
  {
   "cell_type": "markdown",
   "metadata": {},
   "source": [
    "# Fonctions utiles"
   ]
  },
  {
   "cell_type": "code",
   "execution_count": null,
   "metadata": {},
   "outputs": [],
   "source": [
    "import numpy as np\n",
    "import pandas as pd\n",
    "import random\n",
    "from itertools import combinations"
   ]
  },
  {
   "cell_type": "code",
   "execution_count": null,
   "metadata": {},
   "outputs": [],
   "source": [
    "def convert_attributes_into_pandas(filename):\n",
    "    return pd.read_csv(filename)"
   ]
  },
  {
   "cell_type": "code",
   "execution_count": null,
   "metadata": {},
   "outputs": [],
   "source": [
    "df_attributes = convert_attributes_into_pandas(\"attributes_data.csv\")\n",
    "df_attributes"
   ]
  },
  {
   "cell_type": "code",
   "execution_count": null,
   "metadata": {},
   "outputs": [],
   "source": [
    "df_test = convert_attributes_into_pandas(\"test_attributes.csv\")\n",
    "type(df_test)"
   ]
  },
  {
   "cell_type": "code",
   "execution_count": null,
   "metadata": {},
   "outputs": [],
   "source": [
    "indexes = df_attributes.columns\n",
    "indexes"
   ]
  },
  {
   "cell_type": "markdown",
   "metadata": {},
   "source": [
    "Réduction matrice"
   ]
  },
  {
   "cell_type": "code",
   "execution_count": null,
   "metadata": {},
   "outputs": [],
   "source": [
    "#On souhaite pouvoir réduire la matrice selon certaines colonnes, dont les attributs correspondants seront fixés\n",
    "#et ne pourront donc pas changer pendant l'algorithme génétique.\n",
    "#Pour cela on va récupérer une liste d'attributs avec certaines valeurs et utiliser cette liste pour réduire la matrice\n",
    "\n",
    "fixed_attributes = {\"Pale_Skin\":-1}"
   ]
  },
  {
   "cell_type": "code",
   "execution_count": null,
   "metadata": {},
   "outputs": [],
   "source": [
    "def matrix_reduction(df_attributes,fixed_attributes):\n",
    "    attributes = list(fixed_attributes.keys())\n",
    "    values = list(fixed_attributes.values())\n",
    "    for i in range(len(attributes)):\n",
    "        df_attributes.drop(df_attributes.index[df_attributes[attributes[i]]!= values[i]],inplace=True)\n",
    "    return df_attributes.index.tolist()\n"
   ]
  },
  {
   "cell_type": "code",
   "execution_count": null,
   "metadata": {},
   "outputs": [],
   "source": [
    "matrix_reduction(df_attributes,fixed_attributes)"
   ]
  },
  {
   "cell_type": "code",
   "execution_count": null,
   "metadata": {},
   "outputs": [],
   "source": [
    "def get_attributes_from_ID(df_attributes,photo_id):\n",
    "    return pd.DataFrame(df_attributes.loc[df_attributes['ID'] == photo_id])"
   ]
  },
  {
   "cell_type": "code",
   "execution_count": null,
   "metadata": {},
   "outputs": [],
   "source": [
    "get_attributes_from_ID(df_attributes,'043013.jpg')"
   ]
  },
  {
   "cell_type": "code",
   "execution_count": null,
   "metadata": {},
   "outputs": [],
   "source": [
    "def delete_photos(df_attributes,photos_ids):\n",
    "    for i in range(len(photos_ids)):\n",
    "        df_attributes.drop(df_attributes[df_attributes.ID == str(photos_ids[i])].index,inplace=True)\n",
    "    return df_attributes"
   ]
  },
  {
   "cell_type": "markdown",
   "metadata": {},
   "source": [
    "## Algorithme génetique"
   ]
  },
  {
   "cell_type": "code",
   "execution_count": null,
   "metadata": {},
   "outputs": [],
   "source": [
    "def randomly_choose_photos(df_attributes,n):\n",
    "    list_ID = df_attributes.index.tolist()\n",
    "    return random.sample(list_ID,n)  "
   ]
  },
  {
   "cell_type": "code",
   "execution_count": null,
   "metadata": {},
   "outputs": [],
   "source": [
    "randomly_choose_photos(df_attributes,4)"
   ]
  },
  {
   "cell_type": "code",
   "execution_count": null,
   "id": "03028232",
   "metadata": {},
   "outputs": [],
   "source": [
    "encoded_imgs= np.load('encoded_imgs.npy')"
   ]
  },
  {
   "cell_type": "code",
   "execution_count": null,
   "id": "5657f6bb",
   "metadata": {},
   "outputs": [],
   "source": [
    "def crossover_pixels(parents,pc):\n",
    "    index_parents = list(range(0,len(parents)))\n",
    "    p_combinations = list(combinations(index_parents,2))\n",
    "    offsprings= []\n",
    "    for i in range(len(p_combinations)):\n",
    "        parent_1 = (parents[p_combinations[i][0]]).tolist()\n",
    "        parent_2 = (parents[p_combinations[i][1]]).tolist()\n",
    "        k = int(parents[0].size*pc)  #proportion pc from parent1\n",
    "        offsprings.append(random.sample(parent_1,k)+ random.sample(parent_2,parents[0].size-k))\n",
    "    return offsprings"
   ]
  },
  {
   "cell_type": "code",
   "execution_count": null,
   "id": "ed38eb41",
   "metadata": {},
   "outputs": [],
   "source": [
    "def crossover_attributes(parent1,parent2,pc):\n",
    "    list1 = parent1.columns.tolist()\n",
    "    list1.remove('ID')\n",
    "    #split of attributes list into two based on proportions\n",
    "    k = int(len(list1)*pc)   #proportion pc from parent1\n",
    "    l1 = random.sample(list1,k)\n",
    "    l2 = []\n",
    "    for attribute in list1 : \n",
    "        if(attribute not in l1):\n",
    "            l2.append(attribute)\n",
    "    attributes = l1 + l2 \n",
    "    #getting each attribute respective value\n",
    "    values = []\n",
    "    for i in range(len(l1)):\n",
    "        values.append(int(parent1.loc[:,l1[i]]))\n",
    "    for j in range(len(l2)):\n",
    "        values.append(int(parent1.loc[:,l2[j]]))\n",
    "    \n",
    "    #creating offspring as dataframe\n",
    "    return pd.DataFrame(values,attributes).transpose()"
   ]
  },
  {
   "cell_type": "code",
   "execution_count": null,
   "id": "c1c870a1",
   "metadata": {},
   "outputs": [],
   "source": [
    "offsprings = crossover_pixels(encoded_imgs,0.3)"
   ]
  },
  {
   "cell_type": "code",
   "execution_count": null,
   "id": "050d2869",
   "metadata": {},
   "outputs": [],
   "source": [
    "def mutation_pixels(parents,pm):\n",
    "    muted_parents = parents\n",
    "    for j in range(len(parents)): \n",
    "        for i in range(parents[0].size) :\n",
    "            r = random.random()\n",
    "            if r < pm :\n",
    "                muted_parents[j][i] = random.randint(0, 255)\n",
    "    return muted_parents"
   ]
  },
  {
   "cell_type": "code",
   "execution_count": null,
   "metadata": {},
   "outputs": [],
   "source": [
    "def mutation_attributes(offspring,pm):\n",
    "    muted_offspring = offspring\n",
    "    for i in range(offspring.shape[1]) :\n",
    "        r = random.random()\n",
    "        if r < pm :\n",
    "            muted_offspring.iloc[0,i] = offspring.iloc[0,i] * (-1)\n",
    "    return muted_offspring"
   ]
  }
 ],
 "metadata": {
  "kernelspec": {
   "display_name": "Python 3",
   "language": "python",
   "name": "python3"
  },
  "language_info": {
   "codemirror_mode": {
    "name": "ipython",
    "version": 3
   },
   "file_extension": ".py",
   "mimetype": "text/x-python",
   "name": "python",
   "nbconvert_exporter": "python",
   "pygments_lexer": "ipython3",
   "version": "3.10.2"
  }
 },
 "nbformat": 4,
 "nbformat_minor": 5
}
